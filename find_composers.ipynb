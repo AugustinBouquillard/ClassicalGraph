{
 "cells": [
  {
   "cell_type": "markdown",
   "id": "c7421d14",
   "metadata": {},
   "source": [
    "# Un premier graphe de compositeurs"
   ]
  },
  {
   "cell_type": "code",
   "execution_count": 3,
   "id": "68abb47b",
   "metadata": {},
   "outputs": [],
   "source": [
    "from bs4 import BeautifulSoup\n",
    "import requests\n",
    "import re\n",
    "import networkx as nx\n",
    "import spacy\n",
    "import time"
   ]
  },
  {
   "cell_type": "markdown",
   "id": "2fd979ec",
   "metadata": {},
   "source": [
    "## Variables globales"
   ]
  },
  {
   "cell_type": "code",
   "execution_count": 12,
   "id": "55b9c761",
   "metadata": {},
   "outputs": [],
   "source": [
    "#Dictionnaire des propriétés souhaitées\n",
    "dico_props = {\"pays\" : \"P27\",\n",
    "              \"nom\" : \"P735\",\n",
    "              \"prenom\" : \"P734\",\n",
    "              \"date de naissance\" : \"P569\",\n",
    "              \"genre\" : \"P136\",\n",
    "              \"influences\" : \"P737\",\n",
    "              \"oeuvres\":\"P800\",\n",
    "              \"religion\" : \"P140\",\n",
    "              \"étudiant de\" : \"P1066\",\n",
    "              \"professeur de\": \"P802\",\n",
    "              \"écoles\" : \"P69\",\n",
    "              \"domaines\" : \"P101\",\n",
    "              \"institut\" : \"P108\",\n",
    "              \"début de carrière\" : \"P2031\",\n",
    "              \"langues\" : \"P1412\",\n",
    "              \"lieux de vie\" : \"P551\",\n",
    "              \"mouvement\" : \"P135\",\n",
    "              \"métiers\" : \"P106\"}"
   ]
  },
  {
   "cell_type": "code",
   "execution_count": 68,
   "id": "7252f024",
   "metadata": {},
   "outputs": [],
   "source": [
    "def find_id(name):\n",
    "    \"\"\"Récupère l'id d'un compositeur à partir de son nom\"\"\"\n",
    "    url = f\"https://www.wikidata.org/w/index.php?search={name[0]}+{name[1]}&title=Special%3ASearch&ns0=1&ns120=1\"\n",
    "    page = requests.get(url)\n",
    "    soup = BeautifulSoup(page.content, \"html.parser\")\n",
    "    bloc = soup.find(\"div\", class_ = \"mw-search-result-heading\")\n",
    "    group = bloc.find(\"a\")\n",
    "    if group is None:\n",
    "        return None\n",
    "    else:\n",
    "        return group[\"href\"][6:]"
   ]
  },
  {
   "cell_type": "code",
   "execution_count": 8,
   "id": "502a8942",
   "metadata": {},
   "outputs": [
    {
     "data": {
      "text/plain": [
       "'Q1339'"
      ]
     },
     "execution_count": 8,
     "metadata": {},
     "output_type": "execute_result"
    }
   ],
   "source": [
    "find_id((\"Johann-Sebastian\",\"Bach\"))"
   ]
  },
  {
   "cell_type": "markdown",
   "id": "4f2309a5",
   "metadata": {},
   "source": [
    "## Récupération des noms depuis Classic Cat"
   ]
  },
  {
   "cell_type": "code",
   "execution_count": 5,
   "id": "5bd870b9",
   "metadata": {},
   "outputs": [],
   "source": [
    "url = requests.get(\"https://www.classiccat.net/composers.php\")\n",
    "page = BeautifulSoup(url.content, \"html.parser\")\n",
    "li_compo = page.find_all(\"a\", href = True)\n",
    "compos = []\n",
    "for lien in li_compo:\n",
    "    text = lien.get_text()\n",
    "    if \",\" in text:\n",
    "        if len(compos)>0:\n",
    "            if text[0] < compos[-1][0]:\n",
    "                break\n",
    "        compos.append(text)\n"
   ]
  },
  {
   "cell_type": "code",
   "execution_count": 6,
   "id": "0c508318",
   "metadata": {},
   "outputs": [],
   "source": [
    "composers = [(compo.split(\",\")[1],compo.split(\",\")[0])  for compo in compos]"
   ]
  },
  {
   "cell_type": "markdown",
   "id": "68c0d14d",
   "metadata": {},
   "source": [
    "## Complétion des données à partir de l'endpoint Sparqle de Wikidata"
   ]
  },
  {
   "cell_type": "code",
   "execution_count": 15,
   "id": "d961fc11",
   "metadata": {},
   "outputs": [],
   "source": [
    "def actualise_prop(dico,prop,nameprop,id):\n",
    "    \"\"\"Actualise le dictionnaire avec la propriété prop\"\"\"\n",
    "    sparql_endpoint = \"https://query.wikidata.org/sparql\"\n",
    "    query = f\"\"\"\n",
    "    SELECT ?prop ?propLabel WHERE {{\n",
    "        wd:{id} wdt:{prop} ?prop.\n",
    "        SERVICE wikibase:label {{ bd:serviceParam wikibase:language \"[AUTO_LANGUAGE],fr\". }}\n",
    "    }}\n",
    "    \"\"\"\n",
    "    response = requests.get(sparql_endpoint, params={'query': query, 'format': 'json'})\n",
    "    time.sleep(0.05)\n",
    "    li_rep = []\n",
    "    if response.status_code == 200:\n",
    "        data = response.json()\n",
    "        for item in data['results']['bindings']:\n",
    "            li_rep.append((item['prop']['value'][31:],item['propLabel']['value']))\n",
    "        dico[nameprop] = li_rep\n",
    "    else:\n",
    "        dico[nameprop] = None\n",
    "        print(\"Erreur lors de la requête SPARQL:\", response.status_code)"
   ]
  },
  {
   "cell_type": "code",
   "execution_count": 22,
   "id": "634162b0",
   "metadata": {},
   "outputs": [
    {
     "data": {
      "text/plain": [
       "{'pays': [('Q12548', 'Saint-Empire romain germanique'),\n",
       "  ('Q696651', 'duché de Saxe-Eisenach')]}"
      ]
     },
     "execution_count": 22,
     "metadata": {},
     "output_type": "execute_result"
    }
   ],
   "source": [
    "name = (\"Johann-Sebastian\",\"Bach\")\n",
    "id = find_id(name)\n",
    "dico = {}\n",
    "actualise_prop(dico,'P27','pays',id)\n",
    "dico"
   ]
  },
  {
   "cell_type": "code",
   "execution_count": 9,
   "id": "b76d1202",
   "metadata": {},
   "outputs": [],
   "source": [
    "def create_profile(name,dico_props):\n",
    "    \"\"\"Créé le profil d'un compositeur à partir des propriétés voulues et de son nom\"\"\"\n",
    "    dico = {\"prénom\" : name[0], \"nom\" : name[1]}\n",
    "    id = find_id(name)\n",
    "    dico[\"id\"] = id\n",
    "    if id is None:\n",
    "        print(\"Erreur, aucun dictonnaire renvoyé\")\n",
    "    for nom,prop in dico_props.items():\n",
    "        actualise_prop(dico, prop, nom, id)\n",
    "    return dico"
   ]
  },
  {
   "cell_type": "code",
   "execution_count": 23,
   "id": "38f8e342",
   "metadata": {},
   "outputs": [
    {
     "name": "stdout",
     "output_type": "stream",
     "text": [
      "Erreur lors de la requête SPARQL: 429\n",
      "Erreur lors de la requête SPARQL: 429\n"
     ]
    },
    {
     "data": {
      "text/plain": [
       "{'prénom': 'Johann-Sebastian',\n",
       " 'nom': 'Bach',\n",
       " 'id': 'Q1339',\n",
       " 'pays': [('Q12548', 'Saint-Empire romain germanique'),\n",
       "  ('Q696651', 'duché de Saxe-Eisenach')],\n",
       " 'date de naissance': [('', '1685-03-31T00:00:00Z')],\n",
       " 'genre': [('Q8361', 'musique baroque')],\n",
       " 'influences': [('Q1340', 'Antonio Vivaldi'),\n",
       "  ('Q76485', 'Johann Pachelbel'),\n",
       "  ('Q508635', 'Johann Georg Pisendel')],\n",
       " 'oeuvres': [('Q75464', 'Sonates et partitas pour violon seul'),\n",
       "  ('Q208224', 'concertos brandebourgeois'),\n",
       "  ('Q211971', 'Le Clavier bien tempéré'),\n",
       "  ('Q213728', 'Variations Goldberg'),\n",
       "  ('Q310549', 'Messe en si mineur'),\n",
       "  ('Q379111', 'Passion selon Saint Matthieu'),\n",
       "  ('Q392734', 'Toccata et fugue en ré mineur'),\n",
       "  ('Q465878', \"L'Art de la fugue\"),\n",
       "  ('Q642010', 'Oratorio de Noël'),\n",
       "  ('Q693675', \"L'Offrande musicale\"),\n",
       "  ('Q756843', 'Suites pour violoncelle seul'),\n",
       "  ('Q865333', 'Passion selon saint Jean'),\n",
       "  ('Q892166', 'Jesu, meine Freude'),\n",
       "  ('Q908241', 'Sonates en trio pour orgue de Bach'),\n",
       "  ('Q1053305', 'concertos pour clavecin de Bach'),\n",
       "  ('Q1069847', 'Concerto pour violon en mi majeur'),\n",
       "  ('Q1190278', 'Suites pour orchestre de Bach'),\n",
       "  ('Q1341631', \"Petits Livres de notes d'Anna Magdalena Bach\"),\n",
       "  ('Q1342769', 'Suites anglaises'),\n",
       "  ('Q1354193', 'Herz und Mund und Tat und Leben'),\n",
       "  ('Q1364132', 'Inventions et sinfonies'),\n",
       "  ('Q1518000', 'Geschwinde, ihr wirbelnden Winde'),\n",
       "  ('Q1538977', 'Gottes Zeit ist die allerbeste Zeit'),\n",
       "  ('Q1746006', 'Klavierbüchlein für Wilhelm Friedemann Bach'),\n",
       "  ('Q2293299', 'Concerto italien')],\n",
       " 'religion': [('Q75809', 'luthéranisme')],\n",
       " 'étudiant de': [('Q48345', 'Johann Christoph Bach II'),\n",
       "  ('Q153637', 'Dietrich Buxtehude'),\n",
       "  ('Q309470', 'Johann Ambrosius Bach'),\n",
       "  ('Q528445', 'Johann Ludwig Bach'),\n",
       "  ('Q1862395', 'Johann Christoph Bach III')],\n",
       " 'professeur de': [('Q57225', 'Johann Christoph Friedrich Bach'),\n",
       "  ('Q60965', 'Johann Friedrich Agricola'),\n",
       "  ('Q67366', 'Johann Christoph Altnikol'),\n",
       "  ('Q68255', 'Johann Friedrich Doles'),\n",
       "  ('Q215995', 'Johann Gottfried Müthel'),\n",
       "  ('Q445696', 'Johann Christian Kittel'),\n",
       "  ('Q704174', 'Johann Ludwig Krebs'),\n",
       "  ('Q5040226', 'Carl Gotthelf Gerlach')],\n",
       " 'écoles': [('Q1930161', 'École Saint-Michel')],\n",
       " 'domaines': [],\n",
       " 'institut': [('Q61689', \"Léopold d'Anhalt-Köthen\"),\n",
       "  ('Q61972', 'Jean-Ernest III de Saxe-Weimar'),\n",
       "  ('Q117540', 'Collegium Musicum'),\n",
       "  ('Q699668', 'Thomasschule zu Leipzig'),\n",
       "  ('Q798194', 'église Johann Sebastian Bach'),\n",
       "  ('Q1230608', 'église Divi Blasii')],\n",
       " 'début de carrière': [('', '1710-01-01T00:00:00Z')],\n",
       " 'langues': [('Q188', 'allemand'), ('Q397', 'latin'), ('Q652', 'italien')],\n",
       " 'lieux de vie': None,\n",
       " 'mouvement': [('Q8361', 'musique baroque')],\n",
       " 'métiers': None}"
      ]
     },
     "execution_count": 23,
     "metadata": {},
     "output_type": "execute_result"
    }
   ],
   "source": [
    "create_profile((\"Johann-Sebastian\",\"Bach\"),dico_props)"
   ]
  },
  {
   "cell_type": "code",
   "execution_count": 16,
   "id": "56a812a9",
   "metadata": {},
   "outputs": [],
   "source": [
    "def create_profile_id(id,dico_props):\n",
    "    \"\"\"Créé le profil d'un compositeur à partir des propriétés voulues et de son id\"\"\"\n",
    "    dico = {\"id\" : id}\n",
    "    if id is None:\n",
    "        print(\"Erreur, aucun dictonnaire renvoyé\")\n",
    "    for nom,prop in dico_props.items():\n",
    "        actualise_prop(dico, prop, nom, id)\n",
    "    return dico"
   ]
  },
  {
   "cell_type": "code",
   "execution_count": 17,
   "id": "2a923ba5",
   "metadata": {},
   "outputs": [
    {
     "name": "stdout",
     "output_type": "stream",
     "text": [
      "Erreur lors de la requête SPARQL: 429\n",
      "Erreur lors de la requête SPARQL: 429\n",
      "Erreur lors de la requête SPARQL: 429\n",
      "Erreur lors de la requête SPARQL: 429\n",
      "Erreur lors de la requête SPARQL: 429\n",
      "Erreur lors de la requête SPARQL: 429\n"
     ]
    },
    {
     "data": {
      "text/plain": [
       "{'id': 'Q38193',\n",
       " 'pays': [('Q27306', 'Royaume de Prusse')],\n",
       " 'nom': [('Q1778168', 'Arthur')],\n",
       " 'prenom': [('Q27498082', 'Schopenhauer')],\n",
       " 'date de naissance': [('', '1788-02-22T00:00:00Z')],\n",
       " 'genre': [],\n",
       " 'influences': [('Q859', 'Platon'),\n",
       "  ('Q5879', 'Johann Wolfgang von Goethe'),\n",
       "  ('Q9312', 'Emmanuel Kant'),\n",
       "  ('Q9353', 'John Locke'),\n",
       "  ('Q35802', 'Baruch Spinoza'),\n",
       "  ('Q37160', 'David Hume')],\n",
       " 'oeuvres': [('Q560352', 'Le Monde comme Volonté et comme Représentation'),\n",
       "  ('Q929229', 'Parerga et Paralipomena')],\n",
       " 'religion': [('Q7066', 'athéisme')],\n",
       " 'étudiant de': [],\n",
       " 'professeur de': [],\n",
       " 'écoles': None,\n",
       " 'domaines': None,\n",
       " 'institut': None,\n",
       " 'début de carrière': [],\n",
       " 'langues': None,\n",
       " 'lieux de vie': None,\n",
       " 'mouvement': None,\n",
       " 'métiers': [('Q36180', 'écrivain ou écrivaine'),\n",
       "  ('Q333634', 'traducteur ou traductrice'),\n",
       "  ('Q1622272', \"professeur ou professeure d'université\"),\n",
       "  ('Q4964182', 'philosophe'),\n",
       "  ('Q14915627', 'musicologue')]}"
      ]
     },
     "execution_count": 17,
     "metadata": {},
     "output_type": "execute_result"
    }
   ],
   "source": [
    "create_profile_id(\"Q38193\",dico_props)"
   ]
  },
  {
   "cell_type": "markdown",
   "id": "5dde7689",
   "metadata": {},
   "source": [
    "## Complétion plus rapide à l'aide de l'API Wikipedia"
   ]
  },
  {
   "cell_type": "code",
   "execution_count": 145,
   "id": "e1eccd3a",
   "metadata": {},
   "outputs": [],
   "source": [
    "def find_all_properties(entity_id,dico_props = None,lg = \"fr\"):\n",
    "    url = f\"https://www.wikidata.org/w/api.php?action=wbgetentities&format=json&ids={entity_id}\"\n",
    "    response = requests.get(url)\n",
    "    properties = {\"id\" : entity_id}\n",
    "    if response.status_code == 200:\n",
    "        data = response.json()\n",
    "        data2 = data['entities'][entity_id]\n",
    "        if 'labels' in data2 and lg in data2['labels']:\n",
    "            name = data2['labels'][lg]['value']\n",
    "        else:\n",
    "            name = data2['labels']['en']['value']\n",
    "        properties[\"nom\"] = name\n",
    "        if 'descriptions' in data2 and lg in data2['descriptions']:\n",
    "            desc = data2['descriptions'][lg]['value']\n",
    "        else:\n",
    "            desc = data2['descriptions']['en']['value']\n",
    "        properties[\"description\"] = desc\n",
    "        claims = data['entities'][entity_id]['claims']\n",
    "        for prop in claims:\n",
    "            if prop.startswith(\"P\"):\n",
    "                if dico_props is None or prop in dico_props.values():\n",
    "                    if len(claims[prop]) > 0:\n",
    "                        properties[prop] = []\n",
    "                        for item in claims[prop]:\n",
    "                            if 'mainsnak' in item and 'datavalue' in item['mainsnak']:\n",
    "                                value = item['mainsnak']['datavalue']\n",
    "                                if value['type'] == 'wikibase-entityid':\n",
    "                                    properties[prop].append(value['value']['id'])\n",
    "                                elif value['type'] == 'string':\n",
    "                                    properties[prop].append(value['value'])\n",
    "                                elif value['type'] == 'time':\n",
    "                                    properties[prop].append(value['value']['time'])\n",
    "                                elif value['type'] == 'quantity':\n",
    "                                    properties[prop].append(value['value']['amount'])\n",
    "                                elif value['type'] == 'globe-coordinate':\n",
    "                                    properties[prop].append((value['value']['latitude'], value['value']['longitude']))\n",
    "                                else:\n",
    "                                    properties[prop].append(value['value'])\n",
    "        if dico_props is not None:\n",
    "            proprietes = {\"id\" : entity_id, \"nom complet\" : name, \"description\" : desc}\n",
    "            for name, prop in dico_props.items():\n",
    "                if prop in properties:\n",
    "                    proprietes[name] = properties[prop]\n",
    "            return proprietes\n",
    "        return properties\n",
    "    else:\n",
    "        print(f\"Erreur lors de la récupération des propriétés : {response.status_code}\")\n",
    "        return None"
   ]
  },
  {
   "cell_type": "code",
   "execution_count": 146,
   "id": "d3d85634",
   "metadata": {},
   "outputs": [
    {
     "data": {
      "text/plain": [
       "{'id': 'Q1511',\n",
       " 'nom complet': 'Richard Wagner',\n",
       " 'description': \"compositeur, directeur de théâtre, écrivain, chef d'orchestre et polémiste allemand de la période romantique\",\n",
       " 'pays': ['Q153015', 'Q183', 'Q39', 'Q38', 'Q40'],\n",
       " 'nom': ['Q1249148', 'Q11027623'],\n",
       " 'prenom': ['Q2539239'],\n",
       " 'date de naissance': ['+1813-05-22T00:00:00Z', '+1813-00-00T00:00:00Z'],\n",
       " 'genre': ['Q1344', 'Q2142754', 'Q9730'],\n",
       " 'influences': ['Q38193'],\n",
       " 'oeuvres': ['Q114640', 'Q1324254', 'Q560619', 'Q327717', 'Q23085', 'Q190237'],\n",
       " 'religion': ['Q75809'],\n",
       " 'étudiant de': ['Q65815'],\n",
       " 'professeur de': ['Q594113'],\n",
       " 'écoles': ['Q154804', 'Q1526368', 'Q699668'],\n",
       " 'domaines': ['Q1344', 'Q279272'],\n",
       " 'institut': ['Q686522'],\n",
       " 'début de carrière': ['+1832-00-00T00:00:00Z'],\n",
       " 'langues': ['Q188'],\n",
       " 'métiers': ['Q36834',\n",
       "  'Q8178443',\n",
       "  'Q158852',\n",
       "  'Q11774202',\n",
       "  'Q3387717',\n",
       "  'Q18814623',\n",
       "  'Q49757',\n",
       "  'Q486748',\n",
       "  'Q1350157',\n",
       "  'Q18939491',\n",
       "  'Q36180']}"
      ]
     },
     "execution_count": 146,
     "metadata": {},
     "output_type": "execute_result"
    }
   ],
   "source": [
    "dico = find_all_properties(find_id((\"Richard\",\"Wagner\")), dico_props=dico_props)\n",
    "dico"
   ]
  },
  {
   "cell_type": "markdown",
   "id": "735eaeb6",
   "metadata": {},
   "source": [
    "## Génération du graphe d'influences"
   ]
  },
  {
   "cell_type": "code",
   "execution_count": 155,
   "id": "83d890c1",
   "metadata": {},
   "outputs": [
    {
     "name": "stdout",
     "output_type": "stream",
     "text": [
      "Compositeurs à traiter à l'étape 0/5 : {'Q254'}\n",
      "Etude de Q254\n",
      "Les voisins de Q254 : ['Q311378', 'Q1339']\n",
      "Ajout de Q311378 dans le graphe\n",
      "Ajout de Q1339 dans le graphe\n",
      "Compositeurs à traiter à l'étape 1/5 : {'Q1339', 'Q311378'}\n",
      "Etude de Q1339\n",
      "Les voisins de Q1339 : ['Q1340', 'Q76485', 'Q508635']\n",
      "Ajout de Q1340 dans le graphe\n",
      "Ajout de Q76485 dans le graphe\n",
      "Ajout de Q508635 dans le graphe\n",
      "Etude de Q311378\n",
      "Compositeurs à traiter à l'étape 2/5 : {'Q508635', 'Q76485', 'Q1340'}\n",
      "Etude de Q508635\n",
      "Etude de Q76485\n",
      "Etude de Q1340\n",
      "Les voisins de Q1340 : ['Q164475', 'Q207532']\n",
      "Ajout de Q164475 dans le graphe\n",
      "Ajout de Q207532 dans le graphe\n",
      "Compositeurs à traiter à l'étape 3/5 : {'Q207532', 'Q164475'}\n",
      "Etude de Q207532\n",
      "Etude de Q164475\n",
      "Compositeurs à traiter à l'étape 4/5 : set()\n"
     ]
    },
    {
     "data": {
      "image/png": "[encoded data removed]",
      "text/plain": [
       "<Figure size 1200x800 with 1 Axes>"
      ]
     },
     "metadata": {},
     "output_type": "display_data"
    }
   ],
   "source": [
    "def graph_influence(id_composer,n_max_iter=2):\n",
    "    G = nx.DiGraph()\n",
    "    properties = find_all_properties(id_composer, dico_props=dico_props)\n",
    "    G.add_node(id_composer, **properties)\n",
    "    set_actuel = {id_composer}\n",
    "    visites = {id_composer: properties}\n",
    "    for i in range(n_max_iter):\n",
    "        set_suivant = set()\n",
    "        print(f\"Compositeurs à traiter à l'étape {i}/{n_max_iter} : {set_actuel}\")\n",
    "        for id_influ in set_actuel:\n",
    "            print(f\"Etude de {id_influ}\")\n",
    "            if visites[id_influ] is not None and \"influences\" in visites[id_influ].keys():\n",
    "                influences = visites[id_influ][\"influences\"]\n",
    "                print(f\"Les voisins de {id_influ} : {influences}\")\n",
    "                if influences is not None:\n",
    "                    for id_suivant in influences:\n",
    "                        if id_suivant not in visites.keys():\n",
    "                            print(f\"Ajout de {id_suivant} dans le graphe\")\n",
    "                            dico = find_all_properties(id_suivant, dico_props=dico_props)\n",
    "                            G.add_node(id_suivant, **dico)\n",
    "                            visites[id_suivant] = dico\n",
    "                        else:\n",
    "                            print(f\"{id_suivant} déjà présent dans le graphe\")\n",
    "                        G.add_edge(id_influ, id_suivant)\n",
    "                        set_suivant.add(id_suivant)\n",
    "        set_actuel = set_suivant.copy()\n",
    "    for node in G.nodes():\n",
    "        if node in visites.keys():\n",
    "            G.nodes[node].update(visites[node])\n",
    "        else:\n",
    "            print(\"Erreur !\")\n",
    "    return G\n",
    "\n",
    "graph = graph_influence(find_id((\"Wolfgang Amadeus\",\"Mozart\")), n_max_iter=5)\n",
    "\n",
    "def draw_graph(graph):\n",
    "    import matplotlib.pyplot as plt\n",
    "    pos = nx.spring_layout(graph, seed=42)  # Positionnement des nœuds\n",
    "    plt.figure(figsize=(12, 8))\n",
    "    nx.draw(graph, pos, with_labels=True, labels = nx.get_node_attributes(graph, 'nom complet'), node_size=700, node_color=\"lightblue\", font_size=10, font_weight=\"bold\", arrows=True)\n",
    "    plt.title(\"Graphique d'influence des compositeurs\")\n",
    "    plt.show()\n",
    "draw_graph(graph)"
   ]
  },
  {
   "cell_type": "code",
   "execution_count": null,
   "id": "2e3ea17c",
   "metadata": {},
   "outputs": [],
   "source": []
  }
 ],
 "metadata": {
  "kernelspec": {
   "display_name": "MODAL",
   "language": "python",
   "name": "python3"
  },
  "language_info": {
   "codemirror_mode": {
    "name": "ipython",
    "version": 3
   },
   "file_extension": ".py",
   "mimetype": "text/x-python",
   "name": "python",
   "nbconvert_exporter": "python",
   "pygments_lexer": "ipython3",
   "version": "3.12.9"
  }
 },
 "nbformat": 4,
 "nbformat_minor": 5
}
