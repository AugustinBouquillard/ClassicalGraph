{
 "cells": [
  {
   "cell_type": "markdown",
   "id": "c7421d14",
   "metadata": {},
   "source": [
    "# Un premier graphe de compositeurs"
   ]
  },
  {
   "cell_type": "code",
   "execution_count": 3,
   "id": "68abb47b",
   "metadata": {},
   "outputs": [],
   "source": [
    "from bs4 import BeautifulSoup\n",
    "import requests\n",
    "import re\n",
    "import networkx as nx\n",
    "import spacy\n",
    "import time"
   ]
  },
  {
   "cell_type": "markdown",
   "id": "2fd979ec",
   "metadata": {},
   "source": [
    "## Variables globales"
   ]
  },
  {
   "cell_type": "code",
   "execution_count": 12,
   "id": "55b9c761",
   "metadata": {},
   "outputs": [],
   "source": [
    "#Dictionnaire des propriétés souhaitées\n",
    "dico_props = {\"pays\" : \"P27\",\n",
    "              \"nom\" : \"P735\",\n",
    "              \"prenom\" : \"P734\",\n",
    "              \"date de naissance\" : \"P569\",\n",
    "              \"genre\" : \"P136\",\n",
    "              \"influences\" : \"P737\",\n",
    "              \"oeuvres\":\"P800\",\n",
    "              \"religion\" : \"P140\",\n",
    "              \"étudiant de\" : \"P1066\",\n",
    "              \"professeur de\": \"P802\",\n",
    "              \"écoles\" : \"P69\",\n",
    "              \"domaines\" : \"P101\",\n",
    "              \"institut\" : \"P108\",\n",
    "              \"début de carrière\" : \"P2031\",\n",
    "              \"langues\" : \"P1412\",\n",
    "              \"lieux de vie\" : \"P551\",\n",
    "              \"mouvement\" : \"P135\",\n",
    "              \"métiers\" : \"P106\"}"
   ]
  },
  {
   "cell_type": "code",
   "execution_count": 68,
   "id": "7252f024",
   "metadata": {},
   "outputs": [],
   "source": [
    "def find_id(name):\n",
    "    \"\"\"Récupère l'id d'un compositeur à partir de son nom\"\"\"\n",
    "    url = f\"https://www.wikidata.org/w/index.php?search={name[0]}+{name[1]}&title=Special%3ASearch&ns0=1&ns120=1\"\n",
    "    page = requests.get(url)\n",
    "    soup = BeautifulSoup(page.content, \"html.parser\")\n",
    "    bloc = soup.find(\"div\", class_ = \"mw-search-result-heading\")\n",
    "    group = bloc.find(\"a\")\n",
    "    if group is None:\n",
    "        return None\n",
    "    else:\n",
    "        return group[\"href\"][6:]"
   ]
  },
  {
   "cell_type": "code",
   "execution_count": 8,
   "id": "502a8942",
   "metadata": {},
   "outputs": [
    {
     "data": {
      "text/plain": [
       "'Q1339'"
      ]
     },
     "execution_count": 8,
     "metadata": {},
     "output_type": "execute_result"
    }
   ],
   "source": [
    "find_id((\"Johann-Sebastian\",\"Bach\"))"
   ]
  },
  {
   "cell_type": "markdown",
   "id": "4f2309a5",
   "metadata": {},
   "source": [
    "## Récupération des noms depuis Classic Cat"
   ]
  },
  {
   "cell_type": "code",
   "execution_count": 5,
   "id": "5bd870b9",
   "metadata": {},
   "outputs": [],
   "source": [
    "url = requests.get(\"https://www.classiccat.net/composers.php\")\n",
    "page = BeautifulSoup(url.content, \"html.parser\")\n",
    "li_compo = page.find_all(\"a\", href = True)\n",
    "compos = []\n",
    "for lien in li_compo:\n",
    "    text = lien.get_text()\n",
    "    if \",\" in text:\n",
    "        if len(compos)>0:\n",
    "            if text[0] < compos[-1][0]:\n",
    "                break\n",
    "        compos.append(text)\n"
   ]
  },
  {
   "cell_type": "code",
   "execution_count": 6,
   "id": "0c508318",
   "metadata": {},
   "outputs": [],
   "source": [
    "composers = [(compo.split(\",\")[1],compo.split(\",\")[0])  for compo in compos]"
   ]
  },
  {
   "cell_type": "markdown",
   "id": "68c0d14d",
   "metadata": {},
   "source": [
    "## Complétion des données à partir de l'endpoint Sparqle de Wikidata"
   ]
  },
  {
   "cell_type": "code",
   "execution_count": 15,
   "id": "d961fc11",
   "metadata": {},
   "outputs": [],
   "source": [
    "def actualise_prop(dico,prop,nameprop,id):\n",
    "    \"\"\"Actualise le dictionnaire avec la propriété prop\"\"\"\n",
    "    sparql_endpoint = \"https://query.wikidata.org/sparql\"\n",
    "    query = f\"\"\"\n",
    "    SELECT ?prop ?propLabel WHERE {{\n",
    "        wd:{id} wdt:{prop} ?prop.\n",
    "        SERVICE wikibase:label {{ bd:serviceParam wikibase:language \"[AUTO_LANGUAGE],fr\". }}\n",
    "    }}\n",
    "    \"\"\"\n",
    "    response = requests.get(sparql_endpoint, params={'query': query, 'format': 'json'})\n",
    "    time.sleep(0.05)\n",
    "    li_rep = []\n",
    "    if response.status_code == 200:\n",
    "        data = response.json()\n",
    "        for item in data['results']['bindings']:\n",
    "            li_rep.append((item['prop']['value'][31:],item['propLabel']['value']))\n",
    "        dico[nameprop] = li_rep\n",
    "    else:\n",
    "        dico[nameprop] = None\n",
    "        print(\"Erreur lors de la requête SPARQL:\", response.status_code)"
   ]
  },
  {
   "cell_type": "code",
   "execution_count": 22,
   "id": "634162b0",
   "metadata": {},
   "outputs": [
    {
     "data": {
      "text/plain": [
       "{'pays': [('Q12548', 'Saint-Empire romain germanique'),\n",
       "  ('Q696651', 'duché de Saxe-Eisenach')]}"
      ]
     },
     "execution_count": 22,
     "metadata": {},
     "output_type": "execute_result"
    }
   ],
   "source": [
    "name = (\"Johann-Sebastian\",\"Bach\")\n",
    "id = find_id(name)\n",
    "dico = {}\n",
    "actualise_prop(dico,'P27','pays',id)\n",
    "dico"
   ]
  },
  {
   "cell_type": "code",
   "execution_count": 9,
   "id": "b76d1202",
   "metadata": {},
   "outputs": [],
   "source": [
    "def create_profile(name,dico_props):\n",
    "    \"\"\"Créé le profil d'un compositeur à partir des propriétés voulues et de son nom\"\"\"\n",
    "    dico = {\"prénom\" : name[0], \"nom\" : name[1]}\n",
    "    id = find_id(name)\n",
    "    dico[\"id\"] = id\n",
    "    if id is None:\n",
    "        print(\"Erreur, aucun dictonnaire renvoyé\")\n",
    "    for nom,prop in dico_props.items():\n",
    "        actualise_prop(dico, prop, nom, id)\n",
    "    return dico"
   ]
  },
  {
   "cell_type": "code",
   "execution_count": 23,
   "id": "38f8e342",
   "metadata": {},
   "outputs": [
    {
     "name": "stdout",
     "output_type": "stream",
     "text": [
      "Erreur lors de la requête SPARQL: 429\n",
      "Erreur lors de la requête SPARQL: 429\n"
     ]
    },
    {
     "data": {
      "text/plain": [
       "{'prénom': 'Johann-Sebastian',\n",
       " 'nom': 'Bach',\n",
       " 'id': 'Q1339',\n",
       " 'pays': [('Q12548', 'Saint-Empire romain germanique'),\n",
       "  ('Q696651', 'duché de Saxe-Eisenach')],\n",
       " 'date de naissance': [('', '1685-03-31T00:00:00Z')],\n",
       " 'genre': [('Q8361', 'musique baroque')],\n",
       " 'influences': [('Q1340', 'Antonio Vivaldi'),\n",
       "  ('Q76485', 'Johann Pachelbel'),\n",
       "  ('Q508635', 'Johann Georg Pisendel')],\n",
       " 'oeuvres': [('Q75464', 'Sonates et partitas pour violon seul'),\n",
       "  ('Q208224', 'concertos brandebourgeois'),\n",
       "  ('Q211971', 'Le Clavier bien tempéré'),\n",
       "  ('Q213728', 'Variations Goldberg'),\n",
       "  ('Q310549', 'Messe en si mineur'),\n",
       "  ('Q379111', 'Passion selon Saint Matthieu'),\n",
       "  ('Q392734', 'Toccata et fugue en ré mineur'),\n",
       "  ('Q465878', \"L'Art de la fugue\"),\n",
       "  ('Q642010', 'Oratorio de Noël'),\n",
       "  ('Q693675', \"L'Offrande musicale\"),\n",
       "  ('Q756843', 'Suites pour violoncelle seul'),\n",
       "  ('Q865333', 'Passion selon saint Jean'),\n",
       "  ('Q892166', 'Jesu, meine Freude'),\n",
       "  ('Q908241', 'Sonates en trio pour orgue de Bach'),\n",
       "  ('Q1053305', 'concertos pour clavecin de Bach'),\n",
       "  ('Q1069847', 'Concerto pour violon en mi majeur'),\n",
       "  ('Q1190278', 'Suites pour orchestre de Bach'),\n",
       "  ('Q1341631', \"Petits Livres de notes d'Anna Magdalena Bach\"),\n",
       "  ('Q1342769', 'Suites anglaises'),\n",
       "  ('Q1354193', 'Herz und Mund und Tat und Leben'),\n",
       "  ('Q1364132', 'Inventions et sinfonies'),\n",
       "  ('Q1518000', 'Geschwinde, ihr wirbelnden Winde'),\n",
       "  ('Q1538977', 'Gottes Zeit ist die allerbeste Zeit'),\n",
       "  ('Q1746006', 'Klavierbüchlein für Wilhelm Friedemann Bach'),\n",
       "  ('Q2293299', 'Concerto italien')],\n",
       " 'religion': [('Q75809', 'luthéranisme')],\n",
       " 'étudiant de': [('Q48345', 'Johann Christoph Bach II'),\n",
       "  ('Q153637', 'Dietrich Buxtehude'),\n",
       "  ('Q309470', 'Johann Ambrosius Bach'),\n",
       "  ('Q528445', 'Johann Ludwig Bach'),\n",
       "  ('Q1862395', 'Johann Christoph Bach III')],\n",
       " 'professeur de': [('Q57225', 'Johann Christoph Friedrich Bach'),\n",
       "  ('Q60965', 'Johann Friedrich Agricola'),\n",
       "  ('Q67366', 'Johann Christoph Altnikol'),\n",
       "  ('Q68255', 'Johann Friedrich Doles'),\n",
       "  ('Q215995', 'Johann Gottfried Müthel'),\n",
       "  ('Q445696', 'Johann Christian Kittel'),\n",
       "  ('Q704174', 'Johann Ludwig Krebs'),\n",
       "  ('Q5040226', 'Carl Gotthelf Gerlach')],\n",
       " 'écoles': [('Q1930161', 'École Saint-Michel')],\n",
       " 'domaines': [],\n",
       " 'institut': [('Q61689', \"Léopold d'Anhalt-Köthen\"),\n",
       "  ('Q61972', 'Jean-Ernest III de Saxe-Weimar'),\n",
       "  ('Q117540', 'Collegium Musicum'),\n",
       "  ('Q699668', 'Thomasschule zu Leipzig'),\n",
       "  ('Q798194', 'église Johann Sebastian Bach'),\n",
       "  ('Q1230608', 'église Divi Blasii')],\n",
       " 'début de carrière': [('', '1710-01-01T00:00:00Z')],\n",
       " 'langues': [('Q188', 'allemand'), ('Q397', 'latin'), ('Q652', 'italien')],\n",
       " 'lieux de vie': None,\n",
       " 'mouvement': [('Q8361', 'musique baroque')],\n",
       " 'métiers': None}"
      ]
     },
     "execution_count": 23,
     "metadata": {},
     "output_type": "execute_result"
    }
   ],
   "source": [
    "create_profile((\"Johann-Sebastian\",\"Bach\"),dico_props)"
   ]
  },
  {
   "cell_type": "code",
   "execution_count": 16,
   "id": "56a812a9",
   "metadata": {},
   "outputs": [],
   "source": [
    "def create_profile_id(id,dico_props):\n",
    "    \"\"\"Créé le profil d'un compositeur à partir des propriétés voulues et de son id\"\"\"\n",
    "    dico = {\"id\" : id}\n",
    "    if id is None:\n",
    "        print(\"Erreur, aucun dictonnaire renvoyé\")\n",
    "    for nom,prop in dico_props.items():\n",
    "        actualise_prop(dico, prop, nom, id)\n",
    "    return dico"
   ]
  },
  {
   "cell_type": "code",
   "execution_count": 17,
   "id": "2a923ba5",
   "metadata": {},
   "outputs": [
    {
     "name": "stdout",
     "output_type": "stream",
     "text": [
      "Erreur lors de la requête SPARQL: 429\n",
      "Erreur lors de la requête SPARQL: 429\n",
      "Erreur lors de la requête SPARQL: 429\n",
      "Erreur lors de la requête SPARQL: 429\n",
      "Erreur lors de la requête SPARQL: 429\n",
      "Erreur lors de la requête SPARQL: 429\n"
     ]
    },
    {
     "data": {
      "text/plain": [
       "{'id': 'Q38193',\n",
       " 'pays': [('Q27306', 'Royaume de Prusse')],\n",
       " 'nom': [('Q1778168', 'Arthur')],\n",
       " 'prenom': [('Q27498082', 'Schopenhauer')],\n",
       " 'date de naissance': [('', '1788-02-22T00:00:00Z')],\n",
       " 'genre': [],\n",
       " 'influences': [('Q859', 'Platon'),\n",
       "  ('Q5879', 'Johann Wolfgang von Goethe'),\n",
       "  ('Q9312', 'Emmanuel Kant'),\n",
       "  ('Q9353', 'John Locke'),\n",
       "  ('Q35802', 'Baruch Spinoza'),\n",
       "  ('Q37160', 'David Hume')],\n",
       " 'oeuvres': [('Q560352', 'Le Monde comme Volonté et comme Représentation'),\n",
       "  ('Q929229', 'Parerga et Paralipomena')],\n",
       " 'religion': [('Q7066', 'athéisme')],\n",
       " 'étudiant de': [],\n",
       " 'professeur de': [],\n",
       " 'écoles': None,\n",
       " 'domaines': None,\n",
       " 'institut': None,\n",
       " 'début de carrière': [],\n",
       " 'langues': None,\n",
       " 'lieux de vie': None,\n",
       " 'mouvement': None,\n",
       " 'métiers': [('Q36180', 'écrivain ou écrivaine'),\n",
       "  ('Q333634', 'traducteur ou traductrice'),\n",
       "  ('Q1622272', \"professeur ou professeure d'université\"),\n",
       "  ('Q4964182', 'philosophe'),\n",
       "  ('Q14915627', 'musicologue')]}"
      ]
     },
     "execution_count": 17,
     "metadata": {},
     "output_type": "execute_result"
    }
   ],
   "source": [
    "create_profile_id(\"Q38193\",dico_props)"
   ]
  },
  {
   "cell_type": "markdown",
   "id": "5dde7689",
   "metadata": {},
   "source": [
    "## Complétion plus rapide à l'aide de l'API Wikipedia"
   ]
  },
  {
   "cell_type": "code",
   "execution_count": 118,
   "id": "e1eccd3a",
   "metadata": {},
   "outputs": [],
   "source": [
    "def find_all_properties(entity_id,dico_props = None,lg = \"fr\"):\n",
    "    url = f\"https://www.wikidata.org/w/api.php?action=wbgetentities&format=json&ids={entity_id}\"\n",
    "    response = requests.get(url)\n",
    "    properties = {\"id\" : entity_id}\n",
    "    if response.status_code == 200:\n",
    "        data = response.json()\n",
    "        data2 = data['entities'][entity_id]\n",
    "        name = data2['labels'][lg]['value']\n",
    "        properties[\"nom\"] = name\n",
    "        desc = data2['descriptions'][lg]['value']\n",
    "        properties[\"description\"] = desc\n",
    "        claims = data['entities'][entity_id]['claims']\n",
    "        for prop in claims:\n",
    "            if prop.startswith(\"P\"):\n",
    "                if dico_props is None or prop in dico_props.values():\n",
    "                    if len(claims[prop]) > 0:\n",
    "                        properties[prop] = []\n",
    "                        for item in claims[prop]:\n",
    "                            if 'mainsnak' in item and 'datavalue' in item['mainsnak']:\n",
    "                                value = item['mainsnak']['datavalue']\n",
    "                                if value['type'] == 'wikibase-entityid':\n",
    "                                    properties[prop].append(value['value']['id'])\n",
    "                                elif value['type'] == 'string':\n",
    "                                    properties[prop].append(value['value'])\n",
    "                                elif value['type'] == 'time':\n",
    "                                    properties[prop].append(value['value']['time'])\n",
    "                                elif value['type'] == 'quantity':\n",
    "                                    properties[prop].append(value['value']['amount'])\n",
    "                                elif value['type'] == 'globe-coordinate':\n",
    "                                    properties[prop].append((value['value']['latitude'], value['value']['longitude']))\n",
    "                                else:\n",
    "                                    properties[prop].append(value['value'])\n",
    "        if dico_props is not None:\n",
    "            proprietes = {\"id\" : entity_id, \"nom complet\" : name, \"description\" : desc}\n",
    "            for name, prop in dico_props.items():\n",
    "                if prop in properties:\n",
    "                    proprietes[name] = properties[prop]\n",
    "            return proprietes\n",
    "        return properties\n",
    "    else:\n",
    "        print(f\"Erreur lors de la récupération des propriétés : {response.status_code}\")\n",
    "        return None"
   ]
  },
  {
   "cell_type": "code",
   "execution_count": 119,
   "id": "d3d85634",
   "metadata": {},
   "outputs": [
    {
     "data": {
      "text/plain": [
       "{'id': 'Q1340',\n",
       " 'nom complet': 'Antonio Vivaldi',\n",
       " 'description': 'compositeur et violiniste italien',\n",
       " 'pays': ['Q4948'],\n",
       " 'nom': ['Q7141520', 'Q8140778'],\n",
       " 'prenom': ['Q37452514'],\n",
       " 'date de naissance': ['+1678-03-04T00:00:00Z'],\n",
       " 'genre': ['Q1344', 'Q189201', 'Q8812109', 'Q9748', 'Q377141', 'Q1413570'],\n",
       " 'influences': ['Q164475', 'Q207532'],\n",
       " 'oeuvres': ['Q12016',\n",
       "  'Q241950',\n",
       "  'Q1370159',\n",
       "  'Q107967581',\n",
       "  'Q1521015',\n",
       "  'Q2261005',\n",
       "  'Q3495373',\n",
       "  'Q2639298'],\n",
       " 'religion': ['Q7361618'],\n",
       " 'étudiant de': ['Q1525940', 'Q354947'],\n",
       " 'professeur de': ['Q508635', 'Q1445590', 'Q960222', 'Q3495712'],\n",
       " 'institut': ['Q1816328', 'Q669773', 'Q1110282'],\n",
       " 'début de carrière': ['+1685-00-00T00:00:00Z'],\n",
       " 'langues': ['Q652', 'Q397', 'Q32724'],\n",
       " 'mouvement': ['Q8361'],\n",
       " 'métiers': ['Q21680731',\n",
       "  'Q1469535',\n",
       "  'Q36834',\n",
       "  'Q639669',\n",
       "  'Q1259917',\n",
       "  'Q215793',\n",
       "  'Q16145150',\n",
       "  'Q1776724',\n",
       "  'Q1198887']}"
      ]
     },
     "execution_count": 119,
     "metadata": {},
     "output_type": "execute_result"
    }
   ],
   "source": [
    "find_all_properties(\"Q1340\", dico_props=dico_props)"
   ]
  }
 ],
 "metadata": {
  "kernelspec": {
   "display_name": "MODAL",
   "language": "python",
   "name": "python3"
  },
  "language_info": {
   "codemirror_mode": {
    "name": "ipython",
    "version": 3
   },
   "file_extension": ".py",
   "mimetype": "text/x-python",
   "name": "python",
   "nbconvert_exporter": "python",
   "pygments_lexer": "ipython3",
   "version": "3.12.9"
  }
 },
 "nbformat": 4,
 "nbformat_minor": 5
}
