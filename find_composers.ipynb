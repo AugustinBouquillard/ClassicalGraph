{
 "cells": [
  {
   "cell_type": "markdown",
   "id": "c7421d14",
   "metadata": {},
   "source": [
    "# Un premier graphe de compositeurs"
   ]
  },
  {
   "cell_type": "code",
   "execution_count": null,
   "id": "68abb47b",
   "metadata": {},
   "outputs": [],
   "source": [
    "from bs4 import BeautifulSoup\n",
    "import requests\n",
    "import re\n",
    "import networkx as nx\n",
    "import spacy"
   ]
  },
  {
   "cell_type": "markdown",
   "id": "4f2309a5",
   "metadata": {},
   "source": [
    "## Récupération des noms depuis Classic Cat"
   ]
  },
  {
   "cell_type": "code",
   "execution_count": 7,
   "id": "5bd870b9",
   "metadata": {},
   "outputs": [],
   "source": [
    "url = requests.get(\"https://www.classiccat.net/composers.php\")\n",
    "page = BeautifulSoup(url.content, \"html.parser\")\n",
    "li_compo = page.find_all(\"a\", href = True)\n",
    "compos = []\n",
    "for lien in li_compo:\n",
    "    text = lien.get_text()\n",
    "    if \",\" in text:\n",
    "        if len(compos)>0:\n",
    "            if text[0] < compos[-1][0]:\n",
    "                break\n",
    "        compos.append(text)\n"
   ]
  },
  {
   "cell_type": "code",
   "execution_count": 8,
   "id": "0c508318",
   "metadata": {},
   "outputs": [],
   "source": [
    "composers = [(compo.split(\",\")[1],compo.split(\",\")[0])  for compo in compos]"
   ]
  },
  {
   "cell_type": "markdown",
   "id": "68c0d14d",
   "metadata": {},
   "source": [
    "## Complétion des données à partir de Wikidata"
   ]
  },
  {
   "cell_type": "markdown",
   "id": "fd5d3fca",
   "metadata": {},
   "source": [
    "### Méthode obsolète"
   ]
  },
  {
   "cell_type": "code",
   "execution_count": null,
   "id": "2a5db3f4",
   "metadata": {},
   "outputs": [],
   "source": [
    "def find_info(soup, prop, dico, name):\n",
    "    \"\"\"Actualise le dictionnaire dico avec la première valeur de la propriété prop trouvée sur wikidata\"\"\"\n",
    "    bloc = soup.find(\"div\", id = prop)\n",
    "    if bloc is None:\n",
    "        res = None\n",
    "    else:\n",
    "        group = bloc.find(\"a\",href=lambda href: href and href.startswith('/wiki/Q'))\n",
    "        res = group['title'], group.get_text()\n",
    "    dico[name]=res"
   ]
  },
  {
   "cell_type": "code",
   "execution_count": null,
   "id": "a3224e55",
   "metadata": {},
   "outputs": [],
   "source": [
    "def complete_infos_all(name,dict_props):\n",
    "    \"\"\"Complète toutes les informations d'un compositeur à partir de son nom et de ses propriétés.\n",
    "    Attention, le prédicat doit comporter un lien hypertexte\"\"\"\n",
    "    dico = {\"prénom\" : name[0], \"nom\" : name[1]}\n",
    "    url = f\"https://www.wikidata.org/w/index.php?search={name[0]}+{name[1]}&title=Special%3ASearch&ns0=1&ns120=1\"\n",
    "    page = requests.get(url)\n",
    "    soup = BeautifulSoup(page.content, \"html.parser\")\n",
    "    bloc = soup.find(\"div\", class_ = \"mw-search-result-heading\")\n",
    "    url = bloc.find(\"a\")[\"href\"]\n",
    "    id = url[6:]\n",
    "    dico[\"id\"] = id\n",
    "    page = requests.get(\"https://www.wikidata.org\"+url)\n",
    "    soup = BeautifulSoup(page.content, \"html.parser\")\n",
    "    for nom,prop in dict_props.items():\n",
    "        find_info(soup, prop, dico, nom)\n",
    "    return dico"
   ]
  },
  {
   "cell_type": "code",
   "execution_count": null,
   "id": "65d4f4e2",
   "metadata": {},
   "outputs": [],
   "source": [
    "li_props = {'nationalité' : 'P27',\"sexe\":\"P21\"}"
   ]
  },
  {
   "cell_type": "code",
   "execution_count": 73,
   "id": "85cd7df5",
   "metadata": {},
   "outputs": [
    {
     "data": {
      "text/plain": [
       "{'prénom': 'Johann-Sebastian',\n",
       " 'nom': 'Bach',\n",
       " 'id': 'Q1339',\n",
       " 'nationalité': ('Q696651', 'Saxe-Eisenach'),\n",
       " 'sexe': ('Q6581097', 'male'),\n",
       " 'date de naissance': ('Q11148', 'The Guardian'),\n",
       " 'date de décès': ('Q36578', 'Integrated Authority File')}"
      ]
     },
     "execution_count": 73,
     "metadata": {},
     "output_type": "execute_result"
    }
   ],
   "source": [
    "complete_infos_all((\"Johann-Sebastian\",\"Bach\"),li_props)"
   ]
  },
  {
   "cell_type": "markdown",
   "id": "75d844cf",
   "metadata": {},
   "source": [
    "### Une autre méthode plus efficace"
   ]
  },
  {
   "cell_type": "code",
   "execution_count": 13,
   "id": "ad167d81",
   "metadata": {},
   "outputs": [],
   "source": [
    "def find_id(name):\n",
    "    \"\"\"Récupère l'id d'un compositeur à partir de son nom\"\"\"\n",
    "    url = f\"https://www.wikidata.org/w/index.php?search={name[0]}+{name[1]}&title=Special%3ASearch&ns0=1&ns120=1\"\n",
    "    page = requests.get(url)\n",
    "    soup = BeautifulSoup(page.content, \"html.parser\")\n",
    "    bloc = soup.find(\"div\", class_ = \"mw-search-result-heading\")\n",
    "    group = bloc.find(\"a\")\n",
    "    if group is None:\n",
    "        return None\n",
    "    else:\n",
    "        return group[\"href\"][6:]"
   ]
  },
  {
   "cell_type": "code",
   "execution_count": 14,
   "id": "502a8942",
   "metadata": {},
   "outputs": [
    {
     "data": {
      "text/plain": [
       "'Q1339'"
      ]
     },
     "execution_count": 14,
     "metadata": {},
     "output_type": "execute_result"
    }
   ],
   "source": [
    "find_id((\"Johann-Sebastian\",\"Bach\"))"
   ]
  },
  {
   "cell_type": "code",
   "execution_count": null,
   "id": "d961fc11",
   "metadata": {},
   "outputs": [],
   "source": [
    "def actualise_prop(dico,prop,nameprop,id):\n",
    "    \"\"\"Actualise le dictionnaire avec la propriété prop\"\"\"\n",
    "    sparql_endpoint = \"https://query.wikidata.org/sparql\"\n",
    "    query = f\"\"\"\n",
    "    SELECT ?prop ?propLabel WHERE {{\n",
    "        wd:{id} wdt:{prop} ?prop.\n",
    "        SERVICE wikibase:label {{ bd:serviceParam wikibase:language \"[AUTO_LANGUAGE],fr\". }}\n",
    "    }}\n",
    "    \"\"\"\n",
    "    response = requests.get(sparql_endpoint, params={'query': query, 'format': 'json'})\n",
    "    li_rep = []\n",
    "    if response.status_code == 200:\n",
    "        data = response.json()\n",
    "        for item in data['results']['bindings']:\n",
    "            li_rep.append((item['prop']['value'][31:],item['propLabel']['value']))\n",
    "        dico[nameprop] = li_rep\n",
    "    else:\n",
    "        dico[nameprop] = None\n",
    "        print(\"Erreur lors de la requête SPARQL:\", response.status_code)"
   ]
  },
  {
   "cell_type": "code",
   "execution_count": 19,
   "id": "634162b0",
   "metadata": {},
   "outputs": [
    {
     "data": {
      "text/plain": [
       "{'pays': [('Q12548', 'Saint-Empire romain germanique'),\n",
       "  ('Q696651', 'duché de Saxe-Eisenach')]}"
      ]
     },
     "execution_count": 19,
     "metadata": {},
     "output_type": "execute_result"
    }
   ],
   "source": [
    "name = (\"Johann-Sebastian\",\"Bach\")\n",
    "id = find_id(name)\n",
    "dico = {}\n",
    "actualise_prop(dico,'P27','pays',id)\n",
    "dico"
   ]
  },
  {
   "cell_type": "code",
   "execution_count": 27,
   "id": "93f9a4ff",
   "metadata": {},
   "outputs": [],
   "source": [
    "dico_props = {\"pays\" : \"P27\",\"date de naissance\" : \"P569\", \"genre\" : \"P136\", \"influences\" : \"P737\", \"oeuvres\":\"P800\", \"religion\" : \"P140\", \"étudiant de\" : \"P1066\",\n",
    "              \"professeur de\": \"P802\", \"écoles\" : \"P69\", \"domaines\" : \"P101\", \"institut\" : \"P108\", \"début de carrière\" : \"P2031\"}"
   ]
  },
  {
   "cell_type": "code",
   "execution_count": 28,
   "id": "b76d1202",
   "metadata": {},
   "outputs": [],
   "source": [
    "def create_profile(name,dico_props):\n",
    "    \"\"\"Créé le profil d'un compositeur à partir des propriétés voulues et de son nom\"\"\"\n",
    "    dico = {\"prénom\" : name[0], \"nom\" : name[1]}\n",
    "    id = find_id(name)\n",
    "    dico[\"id\"] = id\n",
    "    if id is None:\n",
    "        print(\"Erreur, aucun dictonnaire renvoyé\")\n",
    "    for nom,prop in dico_props.items():\n",
    "        actualise_prop(dico, prop, nom, id)\n",
    "    return dico"
   ]
  },
  {
   "cell_type": "code",
   "execution_count": 25,
   "id": "38f8e342",
   "metadata": {},
   "outputs": [
    {
     "data": {
      "text/plain": [
       "{'prénom': 'Johann-Sebastian',\n",
       " 'nom': 'Bach',\n",
       " 'id': 'Q1339',\n",
       " 'pays': [('Q12548', 'Saint-Empire romain germanique'),\n",
       "  ('Q696651', 'duché de Saxe-Eisenach')],\n",
       " 'date de naissance': [('', '1685-03-31T00:00:00Z')],\n",
       " 'genre': [('Q8361', 'musique baroque')],\n",
       " 'influences': [('Q1340', 'Antonio Vivaldi'),\n",
       "  ('Q76485', 'Johann Pachelbel'),\n",
       "  ('Q508635', 'Johann Georg Pisendel')],\n",
       " 'oeuvres': [('Q75464', 'Sonates et partitas pour violon seul'),\n",
       "  ('Q208224', 'concertos brandebourgeois'),\n",
       "  ('Q211971', 'Le Clavier bien tempéré'),\n",
       "  ('Q213728', 'Variations Goldberg'),\n",
       "  ('Q310549', 'Messe en si mineur'),\n",
       "  ('Q379111', 'Passion selon Saint Matthieu'),\n",
       "  ('Q392734', 'Toccata et fugue en ré mineur'),\n",
       "  ('Q465878', \"L'Art de la fugue\"),\n",
       "  ('Q642010', 'Oratorio de Noël'),\n",
       "  ('Q693675', \"L'Offrande musicale\"),\n",
       "  ('Q756843', 'Suites pour violoncelle seul'),\n",
       "  ('Q865333', 'Passion selon saint Jean'),\n",
       "  ('Q892166', 'Jesu, meine Freude'),\n",
       "  ('Q908241', 'Sonates en trio pour orgue de Bach'),\n",
       "  ('Q1053305', 'concertos pour clavecin de Bach'),\n",
       "  ('Q1069847', 'Concerto pour violon en mi majeur'),\n",
       "  ('Q1190278', 'Suites pour orchestre de Bach'),\n",
       "  ('Q1341631', \"Petits Livres de notes d'Anna Magdalena Bach\"),\n",
       "  ('Q1342769', 'Suites anglaises'),\n",
       "  ('Q1354193', 'Herz und Mund und Tat und Leben'),\n",
       "  ('Q1364132', 'Inventions et sinfonies'),\n",
       "  ('Q1518000', 'Geschwinde, ihr wirbelnden Winde'),\n",
       "  ('Q1538977', 'Gottes Zeit ist die allerbeste Zeit'),\n",
       "  ('Q1746006', 'Klavierbüchlein für Wilhelm Friedemann Bach'),\n",
       "  ('Q2293299', 'Concerto italien')],\n",
       " 'religion': [('Q75809', 'luthéranisme')],\n",
       " 'étudiant de': [('Q48345', 'Johann Christoph Bach II'),\n",
       "  ('Q153637', 'Dietrich Buxtehude'),\n",
       "  ('Q309470', 'Johann Ambrosius Bach'),\n",
       "  ('Q528445', 'Johann Ludwig Bach'),\n",
       "  ('Q1862395', 'Johann Christoph Bach III')],\n",
       " 'professeur de': [('Q57225', 'Johann Christoph Friedrich Bach'),\n",
       "  ('Q60965', 'Johann Friedrich Agricola'),\n",
       "  ('Q67366', 'Johann Christoph Altnikol'),\n",
       "  ('Q68255', 'Johann Friedrich Doles'),\n",
       "  ('Q215995', 'Johann Gottfried Müthel'),\n",
       "  ('Q445696', 'Johann Christian Kittel'),\n",
       "  ('Q704174', 'Johann Ludwig Krebs'),\n",
       "  ('Q5040226', 'Carl Gotthelf Gerlach')],\n",
       " 'écoles': [('Q1930161', 'École Saint-Michel')]}"
      ]
     },
     "execution_count": 25,
     "metadata": {},
     "output_type": "execute_result"
    }
   ],
   "source": [
    "create_profile((\"Johann-Sebastian\",\"Bach\"),dico_props)"
   ]
  }
 ],
 "metadata": {
  "kernelspec": {
   "display_name": "MODAL",
   "language": "python",
   "name": "python3"
  },
  "language_info": {
   "codemirror_mode": {
    "name": "ipython",
    "version": 3
   },
   "file_extension": ".py",
   "mimetype": "text/x-python",
   "name": "python",
   "nbconvert_exporter": "python",
   "pygments_lexer": "ipython3",
   "version": "3.12.9"
  }
 },
 "nbformat": 4,
 "nbformat_minor": 5
}
