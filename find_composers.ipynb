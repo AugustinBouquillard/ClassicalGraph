{
 "cells": [
  {
   "cell_type": "markdown",
   "id": "c7421d14",
   "metadata": {},
   "source": [
    "# Un premier graphe de compositeurs"
   ]
  },
  {
   "cell_type": "code",
   "execution_count": 7,
   "id": "68abb47b",
   "metadata": {},
   "outputs": [],
   "source": [
    "from bs4 import BeautifulSoup\n",
    "import requests\n",
    "import re\n",
    "import networkx as nx\n",
    "import spacy\n",
    "import time\n",
    "from ipysigma import Sigma"
   ]
  },
  {
   "cell_type": "markdown",
   "id": "2fd979ec",
   "metadata": {},
   "source": [
    "## Variables globales"
   ]
  },
  {
   "cell_type": "code",
   "execution_count": 8,
   "id": "55b9c761",
   "metadata": {},
   "outputs": [],
   "source": [
    "#Dictionnaire des propriétés souhaitées\n",
    "dico_props = {\"pays\" : \"P27\",\n",
    "              \"nom\" : \"P735\",\n",
    "              \"prenom\" : \"P734\",\n",
    "              \"date de naissance\" : \"P569\",\n",
    "              \"genre\" : \"P136\",\n",
    "              \"influences\" : \"P737\",\n",
    "              \"oeuvres\":\"P800\",\n",
    "              \"religion\" : \"P140\",\n",
    "              \"étudiant de\" : \"P1066\",\n",
    "              \"professeur de\": \"P802\",\n",
    "              \"écoles\" : \"P69\",\n",
    "              \"domaines\" : \"P101\",\n",
    "              \"institut\" : \"P108\",\n",
    "              \"début de carrière\" : \"P2031\",\n",
    "              \"langues\" : \"P1412\",\n",
    "              \"lieux de vie\" : \"P551\",\n",
    "              \"mouvement\" : \"P135\",\n",
    "              \"métiers\" : \"P106\"}"
   ]
  },
  {
   "cell_type": "code",
   "execution_count": 9,
   "id": "61c8e343",
   "metadata": {},
   "outputs": [],
   "source": [
    "def verbose(message,verb):\n",
    "    if verb:\n",
    "        print(message)"
   ]
  },
  {
   "cell_type": "code",
   "execution_count": 39,
   "id": "7252f024",
   "metadata": {},
   "outputs": [],
   "source": [
    "def find_id(name):\n",
    "    \"\"\"Récupère l'id d'un compositeur à partir de son nom\"\"\"\n",
    "    url = f\"https://www.wikidata.org/w/index.php?search={name[0]}+{name[1]}&title=Special%3ASearch&ns0=1&ns120=1\"\n",
    "    page = requests.get(url)\n",
    "    soup = BeautifulSoup(page.content, \"html.parser\")\n",
    "    try :\n",
    "        bloc = soup.find(\"div\", class_ = \"mw-search-result-heading\")\n",
    "        group = bloc.find(\"a\")\n",
    "        if group is None:\n",
    "            return None\n",
    "        else:\n",
    "            return group[\"href\"][6:]\n",
    "    except:\n",
    "        print(f\"Erreur sur le nom {name[0]} {name[1]}\")\n",
    "        return None"
   ]
  },
  {
   "cell_type": "code",
   "execution_count": 11,
   "id": "502a8942",
   "metadata": {},
   "outputs": [
    {
     "data": {
      "text/plain": [
       "'Q1339'"
      ]
     },
     "execution_count": 11,
     "metadata": {},
     "output_type": "execute_result"
    }
   ],
   "source": [
    "find_id((\"Johann-Sebastian\",\"Bach\"))"
   ]
  },
  {
   "cell_type": "markdown",
   "id": "4f2309a5",
   "metadata": {},
   "source": [
    "## Récupération des noms depuis Classic Cat"
   ]
  },
  {
   "cell_type": "code",
   "execution_count": 12,
   "id": "5bd870b9",
   "metadata": {},
   "outputs": [],
   "source": [
    "url = requests.get(\"https://www.classiccat.net/composers.php\")\n",
    "page = BeautifulSoup(url.content, \"html.parser\")\n",
    "li_compo = page.find_all(\"a\", href = True)\n",
    "compos = []\n",
    "for lien in li_compo:\n",
    "    text = lien.get_text()\n",
    "    if \",\" in text:\n",
    "        if len(compos)>0:\n",
    "            if text[0] < compos[-1][0]:\n",
    "                break\n",
    "        compos.append(text)\n"
   ]
  },
  {
   "cell_type": "code",
   "execution_count": 13,
   "id": "0c508318",
   "metadata": {},
   "outputs": [],
   "source": [
    "composers = [(compo.split(\",\")[1],compo.split(\",\")[0])  for compo in compos]"
   ]
  },
  {
   "cell_type": "markdown",
   "id": "68c0d14d",
   "metadata": {},
   "source": [
    "## Complétion des données à partir de l'endpoint Sparqle de Wikidata"
   ]
  },
  {
   "cell_type": "code",
   "execution_count": 14,
   "id": "d961fc11",
   "metadata": {},
   "outputs": [],
   "source": [
    "def actualise_prop(dico,prop,nameprop,id):\n",
    "    \"\"\"Actualise le dictionnaire avec la propriété prop\"\"\"\n",
    "    sparql_endpoint = \"https://query.wikidata.org/sparql\"\n",
    "    query = f\"\"\"\n",
    "    SELECT ?prop ?propLabel WHERE {{\n",
    "        wd:{id} wdt:{prop} ?prop.\n",
    "        SERVICE wikibase:label {{ bd:serviceParam wikibase:language \"[AUTO_LANGUAGE],fr\". }}\n",
    "    }}\n",
    "    \"\"\"\n",
    "    response = requests.get(sparql_endpoint, params={'query': query, 'format': 'json'})\n",
    "    time.sleep(0.05)\n",
    "    li_rep = []\n",
    "    if response.status_code == 200:\n",
    "        data = response.json()\n",
    "        for item in data['results']['bindings']:\n",
    "            li_rep.append((item['prop']['value'][31:],item['propLabel']['value']))\n",
    "        dico[nameprop] = li_rep\n",
    "    else:\n",
    "        dico[nameprop] = None\n",
    "        print(\"Erreur lors de la requête SPARQL:\", response.status_code)"
   ]
  },
  {
   "cell_type": "code",
   "execution_count": 15,
   "id": "634162b0",
   "metadata": {},
   "outputs": [
    {
     "data": {
      "text/plain": [
       "{'pays': [('Q12548', 'Saint-Empire romain germanique'),\n",
       "  ('Q696651', 'duché de Saxe-Eisenach')]}"
      ]
     },
     "execution_count": 15,
     "metadata": {},
     "output_type": "execute_result"
    }
   ],
   "source": [
    "name = (\"Johann-Sebastian\",\"Bach\")\n",
    "id = find_id(name)\n",
    "dico = {}\n",
    "actualise_prop(dico,'P27','pays',id)\n",
    "dico"
   ]
  },
  {
   "cell_type": "code",
   "execution_count": 16,
   "id": "b76d1202",
   "metadata": {},
   "outputs": [],
   "source": [
    "def create_profile(name,dico_props):\n",
    "    \"\"\"Créé le profil d'un compositeur à partir des propriétés voulues et de son nom\"\"\"\n",
    "    dico = {\"prénom\" : name[0], \"nom\" : name[1]}\n",
    "    id = find_id(name)\n",
    "    dico[\"id\"] = id\n",
    "    if id is None:\n",
    "        print(\"Erreur, aucun dictonnaire renvoyé\")\n",
    "    for nom,prop in dico_props.items():\n",
    "        actualise_prop(dico, prop, nom, id)\n",
    "    return dico"
   ]
  },
  {
   "cell_type": "code",
   "execution_count": 17,
   "id": "38f8e342",
   "metadata": {},
   "outputs": [
    {
     "name": "stdout",
     "output_type": "stream",
     "text": [
      "Erreur lors de la requête SPARQL: 429\n",
      "Erreur lors de la requête SPARQL: 429\n",
      "Erreur lors de la requête SPARQL: 429\n",
      "Erreur lors de la requête SPARQL: 429\n",
      "Erreur lors de la requête SPARQL: 429\n",
      "Erreur lors de la requête SPARQL: 429\n"
     ]
    },
    {
     "data": {
      "text/plain": [
       "{'prénom': 'Johann-Sebastian',\n",
       " 'nom': [('Q4844560', 'Sebastian'), ('Q11122389', 'Johann')],\n",
       " 'id': 'Q1339',\n",
       " 'pays': [('Q12548', 'Saint-Empire romain germanique'),\n",
       "  ('Q696651', 'duché de Saxe-Eisenach')],\n",
       " 'prenom': [('Q1409748', 'Bach')],\n",
       " 'date de naissance': [('', '1685-03-31T00:00:00Z')],\n",
       " 'genre': [('Q8361', 'musique baroque')],\n",
       " 'influences': [('Q1340', 'Antonio Vivaldi'),\n",
       "  ('Q76485', 'Johann Pachelbel'),\n",
       "  ('Q508635', 'Johann Georg Pisendel')],\n",
       " 'oeuvres': [('Q75464', 'Sonates et partitas pour violon seul'),\n",
       "  ('Q208224', 'concertos brandebourgeois'),\n",
       "  ('Q211971', 'Le Clavier bien tempéré'),\n",
       "  ('Q213728', 'Variations Goldberg'),\n",
       "  ('Q310549', 'Messe en si mineur'),\n",
       "  ('Q379111', 'Passion selon Saint Matthieu'),\n",
       "  ('Q392734', 'Toccata et fugue en ré mineur'),\n",
       "  ('Q465878', \"L'Art de la fugue\"),\n",
       "  ('Q642010', 'Oratorio de Noël'),\n",
       "  ('Q693675', \"L'Offrande musicale\"),\n",
       "  ('Q756843', 'Suites pour violoncelle seul'),\n",
       "  ('Q865333', 'Passion selon saint Jean'),\n",
       "  ('Q892166', 'Jesu, meine Freude'),\n",
       "  ('Q908241', 'Sonates en trio pour orgue de Bach'),\n",
       "  ('Q1053305', 'concertos pour clavecin de Bach'),\n",
       "  ('Q1069847', 'Concerto pour violon en mi majeur'),\n",
       "  ('Q1190278', 'Suites pour orchestre de Bach'),\n",
       "  ('Q1341631', \"Petits Livres de notes d'Anna Magdalena Bach\"),\n",
       "  ('Q1342769', 'Suites anglaises'),\n",
       "  ('Q1354193', 'Herz und Mund und Tat und Leben'),\n",
       "  ('Q1364132', 'Inventions et sinfonies'),\n",
       "  ('Q1518000', 'Geschwinde, ihr wirbelnden Winde'),\n",
       "  ('Q1538977', 'Gottes Zeit ist die allerbeste Zeit'),\n",
       "  ('Q1746006', 'Klavierbüchlein für Wilhelm Friedemann Bach'),\n",
       "  ('Q2293299', 'Concerto italien')],\n",
       " 'religion': [('Q75809', 'luthéranisme')],\n",
       " 'étudiant de': [('Q48345', 'Johann Christoph Bach II'),\n",
       "  ('Q153637', 'Dietrich Buxtehude'),\n",
       "  ('Q309470', 'Johann Ambrosius Bach'),\n",
       "  ('Q528445', 'Johann Ludwig Bach'),\n",
       "  ('Q1862395', 'Johann Christoph Bach III')],\n",
       " 'professeur de': [('Q57225', 'Johann Christoph Friedrich Bach'),\n",
       "  ('Q60965', 'Johann Friedrich Agricola'),\n",
       "  ('Q67366', 'Johann Christoph Altnikol'),\n",
       "  ('Q68255', 'Johann Friedrich Doles'),\n",
       "  ('Q215995', 'Johann Gottfried Müthel'),\n",
       "  ('Q445696', 'Johann Christian Kittel'),\n",
       "  ('Q704174', 'Johann Ludwig Krebs'),\n",
       "  ('Q5040226', 'Carl Gotthelf Gerlach')],\n",
       " 'écoles': [('Q1930161', 'École Saint-Michel')],\n",
       " 'domaines': None,\n",
       " 'institut': None,\n",
       " 'début de carrière': None,\n",
       " 'langues': None,\n",
       " 'lieux de vie': None,\n",
       " 'mouvement': None,\n",
       " 'métiers': [('Q36834', 'compositeur ou compositrice'),\n",
       "  ('Q158852', \"chef ou cheffe d'orchestre\"),\n",
       "  ('Q214970', 'virtuose'),\n",
       "  ('Q691031', 'premier violon'),\n",
       "  ('Q765778', 'organiste'),\n",
       "  ('Q1076502', 'chef ou cheffe de chœur'),\n",
       "  ('Q1259917', 'violoniste'),\n",
       "  ('Q2251335', 'instituteur ou institutrice'),\n",
       "  ('Q5371902', 'claveciniste'),\n",
       "  ('Q14915627', 'musicologue'),\n",
       "  ('Q16145150', 'professeur ou professeure de musique')]}"
      ]
     },
     "execution_count": 17,
     "metadata": {},
     "output_type": "execute_result"
    }
   ],
   "source": [
    "create_profile((\"Johann-Sebastian\",\"Bach\"),dico_props)"
   ]
  },
  {
   "cell_type": "code",
   "execution_count": 18,
   "id": "56a812a9",
   "metadata": {},
   "outputs": [],
   "source": [
    "def create_profile_id(id,dico_props):\n",
    "    \"\"\"Créé le profil d'un compositeur à partir des propriétés voulues et de son id\"\"\"\n",
    "    dico = {\"id\" : id}\n",
    "    if id is None:\n",
    "        print(\"Erreur, aucun dictonnaire renvoyé\")\n",
    "    for nom,prop in dico_props.items():\n",
    "        actualise_prop(dico, prop, nom, id)\n",
    "    return dico"
   ]
  },
  {
   "cell_type": "code",
   "execution_count": 19,
   "id": "2a923ba5",
   "metadata": {},
   "outputs": [
    {
     "name": "stdout",
     "output_type": "stream",
     "text": [
      "Erreur lors de la requête SPARQL: 429\n",
      "Erreur lors de la requête SPARQL: 429\n",
      "Erreur lors de la requête SPARQL: 429\n",
      "Erreur lors de la requête SPARQL: 429\n",
      "Erreur lors de la requête SPARQL: 429\n",
      "Erreur lors de la requête SPARQL: 429\n",
      "Erreur lors de la requête SPARQL: 429\n",
      "Erreur lors de la requête SPARQL: 429\n",
      "Erreur lors de la requête SPARQL: 429\n",
      "Erreur lors de la requête SPARQL: 429\n",
      "Erreur lors de la requête SPARQL: 429\n",
      "Erreur lors de la requête SPARQL: 429\n",
      "Erreur lors de la requête SPARQL: 429\n",
      "Erreur lors de la requête SPARQL: 429\n",
      "Erreur lors de la requête SPARQL: 429\n"
     ]
    },
    {
     "data": {
      "text/plain": [
       "{'id': 'Q38193',\n",
       " 'pays': None,\n",
       " 'nom': None,\n",
       " 'prenom': None,\n",
       " 'date de naissance': None,\n",
       " 'genre': None,\n",
       " 'influences': [('Q859', 'Platon'),\n",
       "  ('Q5879', 'Johann Wolfgang von Goethe'),\n",
       "  ('Q9312', 'Emmanuel Kant'),\n",
       "  ('Q9353', 'John Locke'),\n",
       "  ('Q35802', 'Baruch Spinoza'),\n",
       "  ('Q37160', 'David Hume')],\n",
       " 'oeuvres': None,\n",
       " 'religion': None,\n",
       " 'étudiant de': None,\n",
       " 'professeur de': None,\n",
       " 'écoles': None,\n",
       " 'domaines': [('Q9418', 'psychologie'),\n",
       "  ('Q9465', 'éthique'),\n",
       "  ('Q27654', 'histoire de la philosophie'),\n",
       "  ('Q35277', 'métaphysique'),\n",
       "  ('Q35986', 'esthétique')],\n",
       " 'institut': None,\n",
       " 'début de carrière': None,\n",
       " 'langues': None,\n",
       " 'lieux de vie': None,\n",
       " 'mouvement': None,\n",
       " 'métiers': [('Q36180', 'écrivain ou écrivaine'),\n",
       "  ('Q333634', 'traducteur ou traductrice'),\n",
       "  ('Q1622272', \"professeur ou professeure d'université\"),\n",
       "  ('Q4964182', 'philosophe'),\n",
       "  ('Q14915627', 'musicologue')]}"
      ]
     },
     "execution_count": 19,
     "metadata": {},
     "output_type": "execute_result"
    }
   ],
   "source": [
    "create_profile_id(\"Q38193\",dico_props)"
   ]
  },
  {
   "cell_type": "markdown",
   "id": "5dde7689",
   "metadata": {},
   "source": [
    "## Complétion plus rapide à l'aide de l'API Wikipedia"
   ]
  },
  {
   "cell_type": "code",
   "execution_count": 36,
   "id": "e1eccd3a",
   "metadata": {},
   "outputs": [],
   "source": [
    "def find_all_properties(entity_id,dico_props = None,lg = \"fr\"):\n",
    "    url = f\"https://www.wikidata.org/w/api.php?action=wbgetentities&format=json&ids={entity_id}\"\n",
    "    response = requests.get(url)\n",
    "    properties = {\"id\" : entity_id}\n",
    "    if response.status_code == 200:\n",
    "        data = response.json()\n",
    "        data2 = data['entities'][entity_id]\n",
    "        if 'labels' in data2 and lg in data2['labels']:\n",
    "            name = data2['labels'][lg]['value']\n",
    "        elif 'labels' in data2 and 'en' in data2['labels']:\n",
    "            name = data2['labels']['en']['value']\n",
    "        else:\n",
    "            name = entity_id\n",
    "        properties[\"nom\"] = name\n",
    "        if 'descriptions' in data2 and lg in data2['descriptions']:\n",
    "            desc = data2['descriptions'][lg]['value']\n",
    "        elif 'descriptions' in data2 and 'en' in data2['descriptions']:\n",
    "            desc = data2['descriptions']['en']['value']\n",
    "        else:\n",
    "            desc = entity_id\n",
    "        properties[\"description\"] = desc\n",
    "        claims = data['entities'][entity_id]['claims']\n",
    "        for prop in claims:\n",
    "            if prop.startswith(\"P\"):\n",
    "                if dico_props is None or prop in dico_props.values():\n",
    "                    if len(claims[prop]) > 0:\n",
    "                        properties[prop] = []\n",
    "                        for item in claims[prop]:\n",
    "                            if 'mainsnak' in item and 'datavalue' in item['mainsnak']:\n",
    "                                value = item['mainsnak']['datavalue']\n",
    "                                if value['type'] == 'wikibase-entityid':\n",
    "                                    properties[prop].append(value['value']['id'])\n",
    "                                elif value['type'] == 'string':\n",
    "                                    properties[prop].append(value['value'])\n",
    "                                elif value['type'] == 'time':\n",
    "                                    properties[prop].append(value['value']['time'])\n",
    "                                elif value['type'] == 'quantity':\n",
    "                                    properties[prop].append(value['value']['amount'])\n",
    "                                elif value['type'] == 'globe-coordinate':\n",
    "                                    properties[prop].append((value['value']['latitude'], value['value']['longitude']))\n",
    "                                else:\n",
    "                                    properties[prop].append(value['value'])\n",
    "        if dico_props is not None:\n",
    "            proprietes = {\"id\" : entity_id, \"nom complet\" : name, \"description\" : desc}\n",
    "            for name, prop in dico_props.items():\n",
    "                if prop in properties:\n",
    "                    proprietes[name] = properties[prop]\n",
    "            return proprietes\n",
    "        return properties\n",
    "    else:\n",
    "        print(f\"Erreur lors de la récupération des propriétés : {response.status_code}\")\n",
    "        return None"
   ]
  },
  {
   "cell_type": "code",
   "execution_count": 28,
   "id": "d3d85634",
   "metadata": {},
   "outputs": [
    {
     "data": {
      "text/plain": [
       "{'id': 'Q1511',\n",
       " 'nom complet': 'Richard Wagner',\n",
       " 'description': \"compositeur, directeur de théâtre, écrivain, chef d'orchestre et polémiste allemand de la période romantique\",\n",
       " 'pays': ['Q153015', 'Q183', 'Q39', 'Q38', 'Q40'],\n",
       " 'nom': ['Q1249148', 'Q11027623'],\n",
       " 'prenom': ['Q2539239'],\n",
       " 'date de naissance': ['+1813-05-22T00:00:00Z', '+1813-00-00T00:00:00Z'],\n",
       " 'genre': ['Q1344', 'Q2142754', 'Q9730'],\n",
       " 'influences': ['Q38193'],\n",
       " 'oeuvres': ['Q114640', 'Q1324254', 'Q560619', 'Q327717', 'Q23085', 'Q190237'],\n",
       " 'religion': ['Q75809'],\n",
       " 'étudiant de': ['Q65815'],\n",
       " 'professeur de': ['Q594113'],\n",
       " 'écoles': ['Q154804', 'Q1526368', 'Q699668'],\n",
       " 'domaines': ['Q1344', 'Q279272'],\n",
       " 'institut': ['Q686522'],\n",
       " 'début de carrière': ['+1832-00-00T00:00:00Z'],\n",
       " 'langues': ['Q188'],\n",
       " 'métiers': ['Q36834',\n",
       "  'Q8178443',\n",
       "  'Q158852',\n",
       "  'Q11774202',\n",
       "  'Q3387717',\n",
       "  'Q18814623',\n",
       "  'Q49757',\n",
       "  'Q486748',\n",
       "  'Q1350157',\n",
       "  'Q18939491',\n",
       "  'Q36180']}"
      ]
     },
     "execution_count": 28,
     "metadata": {},
     "output_type": "execute_result"
    }
   ],
   "source": [
    "dico = find_all_properties(find_id((\"Richard\",\"Wagner\")), dico_props=dico_props)\n",
    "dico"
   ]
  },
  {
   "cell_type": "markdown",
   "id": "735eaeb6",
   "metadata": {},
   "source": [
    "## Génération du graphe d'influences"
   ]
  },
  {
   "cell_type": "markdown",
   "id": "8f44c4da",
   "metadata": {},
   "source": [
    "Premiers constats : la relation d'influence est trop faible, et subitement très forte lorsqu'il s'agit de philosophes (cf. le graphe de Wagner qui est très encombré du fait de son influence par Schopenhauer)."
   ]
  },
  {
   "cell_type": "code",
   "execution_count": 22,
   "id": "6826140b",
   "metadata": {},
   "outputs": [],
   "source": [
    "def generate_color_palette(N):\n",
    "    \"\"\"\n",
    "    Génère une palette de N couleurs en format hexadécimal.\n",
    "\n",
    "    :param N: Nombre de couleurs à générer\n",
    "    :return: Liste de couleurs en format hexadécimal\n",
    "    \"\"\"\n",
    "    import colorsys\n",
    "\n",
    "    # Liste pour stocker les couleurs\n",
    "    colors = []\n",
    "\n",
    "    for i in range(N):\n",
    "        # Calculer la teinte (hue) en fonction de l'index\n",
    "        hue = i / N\n",
    "        # Convertir HSV à RGB\n",
    "        rgb = colorsys.hsv_to_rgb(hue, 1.0, 1.0)\n",
    "        # Convertir RGB à hexadécimal\n",
    "        hex_color = '#{:02x}{:02x}{:02x}'.format(int(rgb[0] * 255), int(rgb[1] * 255), int(rgb[2] * 255))\n",
    "        colors.append(hex_color)\n",
    "\n",
    "    return colors"
   ]
  },
  {
   "cell_type": "code",
   "execution_count": 23,
   "id": "83d890c1",
   "metadata": {},
   "outputs": [],
   "source": [
    "def graph_influence(id_composer,n_max_iter=2, verb = False, lg = \"fr\"):\n",
    "    colors  = generate_color_palette(n_max_iter+1)\n",
    "    G = nx.DiGraph()\n",
    "    properties = find_all_properties(id_composer, dico_props=dico_props)\n",
    "    G.add_node(id_composer, **properties)\n",
    "    G.nodes[id_composer][\"color\"] = colors[0]\n",
    "    set_actuel = {id_composer}\n",
    "    visites = {id_composer: properties}\n",
    "    for i in range(n_max_iter):\n",
    "        set_suivant = set()\n",
    "        verbose(f\"Compositeurs à traiter à l'étape {i}/{n_max_iter} : {set_actuel}\",verb)\n",
    "        for id_influ in set_actuel:\n",
    "            verbose(f\"Etude de {id_influ}\",verb)\n",
    "            if visites[id_influ] is not None and \"influences\" in visites[id_influ].keys():\n",
    "                influences = visites[id_influ][\"influences\"]\n",
    "                verbose(f\"Les voisins de {id_influ} : {influences}\",verb)\n",
    "                if influences is not None:\n",
    "                    for id_suivant in influences:\n",
    "                        if id_suivant not in visites.keys():\n",
    "                            verbose(f\"Ajout de {id_suivant} dans le graphe\",verb)\n",
    "                            dico = find_all_properties(id_suivant, dico_props=dico_props)\n",
    "                            G.add_node(id_suivant, **dico)\n",
    "                            visites[id_suivant] = dico\n",
    "                            G.nodes[id_suivant][\"color\"] = colors[i+1]\n",
    "                        else:\n",
    "                            verbose(print(f\"{id_suivant} déjà présent dans le graphe\",verb))\n",
    "                        G.add_edge(id_influ, id_suivant)\n",
    "                        set_suivant.add(id_suivant)\n",
    "        set_actuel = set_suivant.copy()\n",
    "    for node in G.nodes():\n",
    "        if node in visites.keys():\n",
    "            G.nodes[node].update(visites[node])\n",
    "        else:\n",
    "            print(\"Erreur !\")\n",
    "    return G"
   ]
  },
  {
   "cell_type": "code",
   "execution_count": 24,
   "id": "2e3ea17c",
   "metadata": {},
   "outputs": [
    {
     "data": {
      "image/png": "[encoded data removed]",
      "text/plain": [
       "<Figure size 1200x800 with 1 Axes>"
      ]
     },
     "metadata": {},
     "output_type": "display_data"
    }
   ],
   "source": [
    "graph = graph_influence(find_id((\"Richard\",\"Wagner\")), n_max_iter=2)\n",
    "\n",
    "def draw_graph(graph):\n",
    "    import matplotlib.pyplot as plt\n",
    "    pos = nx.spring_layout(graph, seed=42)  # Positionnement des nœuds\n",
    "    plt.figure(figsize=(12, 8))\n",
    "    colors = [graph.nodes[n]['color'] for n in graph.nodes()]\n",
    "    nx.draw(graph, pos, with_labels=True, labels = nx.get_node_attributes(graph, 'nom complet'), node_size=700, node_color=colors, font_size=10, font_weight=\"bold\", arrows=True)\n",
    "    plt.title(\"Graphique d'influence des compositeurs\")\n",
    "    plt.show()\n",
    "draw_graph(graph)"
   ]
  },
  {
   "cell_type": "markdown",
   "id": "440cf2fa",
   "metadata": {},
   "source": [
    "## Graphe complet d'influences"
   ]
  },
  {
   "cell_type": "code",
   "execution_count": null,
   "id": "a10077ce",
   "metadata": {},
   "outputs": [],
   "source": [
    "def graphes_toutes_influences(li_compos,verb = False):\n",
    "    G = nx.DiGraph()\n",
    "    i=1\n",
    "    for compos in li_compos:\n",
    "        verbose(f\"Traitement {i}/{len(li_compos)} : {compos[0]} {compos[1]}\",verb)\n",
    "        i+=1\n",
    "        id_compos = find_id(compos)\n",
    "        if id_compos is not None:\n",
    "            profile = find_all_properties(id_compos, dico_props=dico_props)\n",
    "            G.add_node(id_compos)\n",
    "            G.nodes[id_compos].update(profile)\n",
    "            G.nodes[id_compos][\"color\"] = \"red\"\n",
    "            if \"influences\" in profile and profile[\"influences\"] is not None:\n",
    "                for influ in profile[\"influences\"]:\n",
    "                    G.add_edge(id_compos,influ)\n",
    "                    profile_influ = find_all_properties(influ, dico_props=dico_props)\n",
    "                    G.nodes[influ].update(profile_influ)\n",
    "                    if \"color\" not in G.nodes[influ] :\n",
    "                        G.nodes[influ][\"color\"] = \"blue\"\n",
    "    return G\n"
   ]
  },
  {
   "cell_type": "code",
   "execution_count": null,
   "id": "8675cbdd",
   "metadata": {},
   "outputs": [
    {
     "name": "stdout",
     "output_type": "stream",
     "text": [
      "Traitement 1/100 :  Adolphe Adam\n",
      "Traitement 2/100 :  Dionisio Aguado\n",
      "Traitement 3/100 :  Julián Aguirre\n",
      "Traitement 4/100 :  Isaac Albéniz\n",
      "Traitement 5/100 :  Tomaso Albinoni\n",
      "Traitement 6/100 :  Johann Georg Albrechtsberger\n",
      "Traitement 7/100 :  Charles Valentin Alkan\n",
      "Traitement 8/100 :  Gregorio Allegri\n",
      "Traitement 9/100 :  William Alwyn\n",
      "Traitement 10/100 :  Joachim Andersen\n",
      "Traitement 11/100 :  Leroy Anderson\n",
      "Traitement 12/100 :  Louis Andriessen\n",
      "Traitement 13/100 :  Giovanni Animuccia\n",
      "Traitement 14/100 :  Hans Erich Apostel\n",
      "Traitement 15/100 :  Bert Appermont\n",
      "Traitement 16/100 :  Jacob Arcadelt\n",
      "Traitement 17/100 :  Anton Arensky\n",
      "Traitement 18/100 :  Malcolm Arnold\n",
      "Traitement 19/100 :  Samuel Arnold\n",
      "Traitement 20/100 :  Juan Crisóstomo Arriaga\n",
      "Traitement 21/100 :  Emilio Arrieta Corera\n",
      "Traitement 22/100 :  Claude Arrieu\n",
      "Traitement 23/100 :  Leo Ascher\n",
      "Traitement 24/100 :  Daniel Asia\n",
      "Traitement 25/100 :  Feike Asma\n",
      "Traitement 26/100 :  Sergio Assad\n",
      "Traitement 27/100 :  Pierre Attaingnant\n",
      "Traitement 28/100 :  Daniel Auber\n",
      "Traitement 29/100 :  Edmond Audran\n",
      "Traitement 30/100 :  Milton Babbitt\n",
      "Traitement 31/100 :  Carl Philipp Emanuel Bach\n",
      "Traitement 32/100 :  Johan Christian Bach\n",
      "Traitement 33/100 :  Johann Bernhard Bach\n",
      "Traitement 34/100 :  Johann Christoph Friedrich Bach\n",
      "Traitement 35/100 :  Johann Sebastian Bach\n",
      "Traitement 36/100 :  Wilhelm Friedemann Bach\n",
      "Traitement 37/100 :  Carl sr. Baermann\n",
      "Erreur sur le nom  Carl sr. Baermann\n",
      "Traitement 38/100 :  Edwin Eugene Bagley\n",
      "Traitement 39/100 :  Bálint Bakfark\n",
      "Traitement 40/100 :  Mily Alexeyevich Balakirev\n",
      "Traitement 41/100 :  Claude Balbastre\n",
      "Traitement 42/100 :  Samuel Barber\n",
      "Traitement 43/100 :  Lajos Bardos\n",
      "Traitement 44/100 :  Alejandro Barletta\n",
      "Traitement 45/100 :  Agustín Barrios\n",
      "Traitement 46/100 :  Ary Barroso\n",
      "Traitement 47/100 :  Béla Bartók\n",
      "Traitement 48/100 :  Amy Beach\n",
      "Traitement 49/100 :  John Ness Beck\n",
      "Traitement 50/100 :  Denis Bédard\n",
      "Traitement 51/100 :  Ludwig van Beethoven\n",
      "Traitement 52/100 :  Vincenzo Bellini\n",
      "Traitement 53/100 :  Pietro Paolo Bencini\n",
      "Traitement 54/100 :  Julius Benedict\n",
      "Traitement 55/100 :  John Bennet\n",
      "Traitement 56/100 :  Richard Rodney Bennett\n",
      "Traitement 57/100 :  Alban Berg\n",
      "Traitement 58/100 :  William Bergsma\n",
      "Traitement 59/100 :  Luciano Berio\n",
      "Traitement 60/100 :  Irving Berlin\n",
      "Traitement 61/100 :  Hector Berlioz\n",
      "Traitement 62/100 :  Leonard Bernstein\n",
      "Traitement 63/100 :  Franz Berwald\n",
      "Traitement 64/100 :  Gilbert Biberian\n",
      "Traitement 65/100 :  Franz Biebl\n",
      "Traitement 66/100 :  Jacob Bijster\n",
      "Traitement 67/100 :  William Billings\n",
      "Traitement 68/100 :  Hildegard von Bingen\n",
      "Traitement 69/100 :  Kaspar Jakob Bischoff\n",
      "Traitement 70/100 :  Henry R. Bishop\n",
      "Traitement 71/100 :  Jacques Bittner\n",
      "Traitement 72/100 :  Georges Bizet\n",
      "Traitement 73/100 :  Boris Blacher\n",
      "Traitement 74/100 :  Manuel Blancafort\n",
      "Traitement 75/100 :  Michel Blavet\n",
      "Traitement 76/100 :  Marc Blitzstein\n",
      "Traitement 77/100 :  Ernest Bloch\n",
      "Traitement 78/100 :  Luigi Boccherini\n",
      "Traitement 79/100 :  Léon Boëllmann\n",
      "Traitement 80/100 :  Georg Böhm\n",
      "Traitement 81/100 :  François Adrien Boieldieu\n",
      "Traitement 82/100 :  Joseph Bodin de Boismortier\n",
      "Traitement 83/100 :  Arrigo Boito\n",
      "Traitement 84/100 :  William Bolcom\n",
      "Traitement 85/100 :  Claude Bolling\n",
      "Traitement 86/100 :  Alexander Borodin\n",
      "Traitement 87/100 :  Serge Bortkiewicz\n",
      "Traitement 88/100 :  Juan Boscan\n",
      "Traitement 89/100 :  Marco Enrico Bossi\n",
      "Traitement 90/100 :  Giovanni Bottesini\n",
      "Traitement 91/100 :  Thomas-Louis Bourgeois\n",
      "Traitement 92/100 :  Paul Bowles\n",
      "Traitement 93/100 :  Eugène Bozza\n",
      "Traitement 94/100 :  Johannes Brahms\n",
      "Traitement 95/100 :  Benjamin Britten\n",
      "Traitement 96/100 :  Riccardo Broschi\n",
      "Traitement 97/100 :  Moritz Brosig\n",
      "Traitement 98/100 :  Leo Brouwer\n",
      "Traitement 99/100 :  Max Bruch\n",
      "Traitement 100/100 :  Anton Bruckner\n"
     ]
    }
   ],
   "source": [
    "graph = graphes_toutes_influences(composers[:100], verb = True) #Environ 3 minutes pour 100 compositeurs"
   ]
  }
 ],
 "metadata": {
  "kernelspec": {
   "display_name": "MODAL",
   "language": "python",
   "name": "python3"
  },
  "language_info": {
   "codemirror_mode": {
    "name": "ipython",
    "version": 3
   },
   "file_extension": ".py",
   "mimetype": "text/x-python",
   "name": "python",
   "nbconvert_exporter": "python",
   "pygments_lexer": "ipython3",
   "version": "3.12.9"
  }
 },
 "nbformat": 4,
 "nbformat_minor": 5
}
