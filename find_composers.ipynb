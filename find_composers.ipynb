{
 "cells": [
  {
   "cell_type": "markdown",
   "id": "c7421d14",
   "metadata": {},
   "source": [
    "# Un premier graphe de compositeurs"
   ]
  },
  {
   "cell_type": "code",
   "execution_count": 35,
   "id": "68abb47b",
   "metadata": {},
   "outputs": [],
   "source": [
    "from bs4 import BeautifulSoup\n",
    "import requests\n",
    "import re\n",
    "import networkx as nx\n",
    "import spacy"
   ]
  },
  {
   "cell_type": "markdown",
   "id": "4f2309a5",
   "metadata": {},
   "source": [
    "## Récupération des noms depuis Classic Cat"
   ]
  },
  {
   "cell_type": "code",
   "execution_count": null,
   "id": "5bd870b9",
   "metadata": {},
   "outputs": [],
   "source": [
    "url = requests.get(\"https://www.classiccat.net/composers.php\")\n",
    "page = BeautifulSoup(url.content, \"html.parser\")\n",
    "li_compo = page.find_all(\"a\", href = True)\n",
    "compos = []\n",
    "for lien in li_compo:\n",
    "    text = lien.get_text()\n",
    "    if \",\" in text:\n",
    "        if len(compos)>0:\n",
    "            if text[0] < compos[-1][0]:\n",
    "                break\n",
    "        compos.append(text)\n"
   ]
  },
  {
   "cell_type": "code",
   "execution_count": null,
   "id": "0c508318",
   "metadata": {},
   "outputs": [],
   "source": [
    "composers = [(compo.split(\",\")[1],compo.split(\",\")[0])  for compo in compos]"
   ]
  },
  {
   "cell_type": "markdown",
   "id": "68c0d14d",
   "metadata": {},
   "source": [
    "## Complétion des données à partir de Wikidata"
   ]
  },
  {
   "cell_type": "code",
   "execution_count": null,
   "id": "2a5db3f4",
   "metadata": {},
   "outputs": [],
   "source": [
    "def find_info(soup, prop, dico, name):\n",
    "    \"\"\"Actualise le dictionnaire dico avec la première valeur de la propriété prop trouvée sur wikidata\"\"\"\n",
    "    bloc = soup.find(\"div\", id = prop)\n",
    "    if bloc is None:\n",
    "        res = None\n",
    "    else:\n",
    "        group = bloc.find(\"a\",href=lambda href: href and href.startswith('/wiki/Q'))\n",
    "        res = group['title'], group.get_text()\n",
    "    dico[name]=res"
   ]
  },
  {
   "cell_type": "code",
   "execution_count": null,
   "id": "a3224e55",
   "metadata": {},
   "outputs": [],
   "source": [
    "def complete_infos_all(name,dict_props):\n",
    "    \"\"\"Complète toutes les informations d'un compositeur à partir de son nom et de ses propriétés.\n",
    "    Attention, le prédicat doit comporter un lien hypertexte\"\"\"\n",
    "    dico = {\"prénom\" : name[0], \"nom\" : name[1]}\n",
    "    url = f\"https://www.wikidata.org/w/index.php?search={name[0]}+{name[1]}&title=Special%3ASearch&ns0=1&ns120=1\"\n",
    "    page = requests.get(url)\n",
    "    soup = BeautifulSoup(page.content, \"html.parser\")\n",
    "    bloc = soup.find(\"div\", class_ = \"mw-search-result-heading\")\n",
    "    url = bloc.find(\"a\")[\"href\"]\n",
    "    id = url[6:]\n",
    "    dico[\"id\"] = id\n",
    "    page = requests.get(\"https://www.wikidata.org\"+url)\n",
    "    soup = BeautifulSoup(page.content, \"html.parser\")\n",
    "    for nom,prop in dict_props.items():\n",
    "        find_info(soup, prop, dico, nom)\n",
    "    return dico"
   ]
  },
  {
   "cell_type": "code",
   "execution_count": null,
   "id": "65d4f4e2",
   "metadata": {},
   "outputs": [],
   "source": [
    "li_props = {'nationalité' : 'P27',\"sexe\":\"P21\"}"
   ]
  },
  {
   "cell_type": "code",
   "execution_count": 73,
   "id": "85cd7df5",
   "metadata": {},
   "outputs": [
    {
     "data": {
      "text/plain": [
       "{'prénom': 'Johann-Sebastian',\n",
       " 'nom': 'Bach',\n",
       " 'id': 'Q1339',\n",
       " 'nationalité': ('Q696651', 'Saxe-Eisenach'),\n",
       " 'sexe': ('Q6581097', 'male'),\n",
       " 'date de naissance': ('Q11148', 'The Guardian'),\n",
       " 'date de décès': ('Q36578', 'Integrated Authority File')}"
      ]
     },
     "execution_count": 73,
     "metadata": {},
     "output_type": "execute_result"
    }
   ],
   "source": [
    "complete_infos_all((\"Johann-Sebastian\",\"Bach\"),li_props)"
   ]
  }
 ],
 "metadata": {
  "kernelspec": {
   "display_name": "MODAL",
   "language": "python",
   "name": "python3"
  },
  "language_info": {
   "codemirror_mode": {
    "name": "ipython",
    "version": 3
   },
   "file_extension": ".py",
   "mimetype": "text/x-python",
   "name": "python",
   "nbconvert_exporter": "python",
   "pygments_lexer": "ipython3",
   "version": "3.12.9"
  }
 },
 "nbformat": 4,
 "nbformat_minor": 5
}
